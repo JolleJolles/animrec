{
  "cells": [
    {
      "cell_type": "code",
      "source": [
        "# Import Converter module\n",
        "from animrec import Converter"
      ],
      "outputs": [],
      "execution_count": null,
      "metadata": {}
    },
    {
      "cell_type": "code",
      "source": [
        "# Read converter documentation\n",
        "print(Converter.__doc__)"
      ],
      "outputs": [],
      "execution_count": null,
      "metadata": {
        "inputHidden": false,
        "outputHidden": false
      }
    },
    {
      "cell_type": "code",
      "source": [
        "# Set parameters\n",
        "dir_in    = \"/Users/jollejolles/Dropbox/Science/5 Coding/Piloting/aaa\"\n",
        "dir_out   = \"/Users/jollejolles/Dropbox/Science/5 Coding/Piloting/aab\"\n",
        "vidtype   = \".h264\"\n",
        "conv_type = \"withframe\"\n",
        "remove    = False\n",
        "pools     = 2\n",
        "resizeval = 0.5\n",
        "displayframenr = 100"
      ],
      "outputs": [],
      "execution_count": null,
      "metadata": {
        "inputHidden": false,
        "outputHidden": false
      }
    },
    {
      "cell_type": "code",
      "source": [
        "# Run Converter\n",
        "convert = Converter(dir_in, dir_out, vidtype, conv_type, remove, \n",
        "                    pools, resizeval, displayframenr)"
      ],
      "outputs": [],
      "execution_count": null,
      "metadata": {}
    }
  ],
  "metadata": {
    "kernel_info": {
      "name": "python2"
    },
    "kernelspec": {
      "name": "python2",
      "language": "python",
      "display_name": "Python 2"
    },
    "language_info": {
      "mimetype": "text/x-python",
      "nbconvert_exporter": "python",
      "name": "python",
      "pygments_lexer": "ipython2",
      "version": "2.7.12",
      "file_extension": ".py",
      "codemirror_mode": {
        "version": 2,
        "name": "ipython"
      }
    },
    "nteract": {
      "version": "0.12.3"
    }
  },
  "nbformat": 4,
  "nbformat_minor": 2
}