{
 "cells": [
  {
   "cell_type": "code",
   "execution_count": null,
   "metadata": {},
   "outputs": [],
   "source": [
    "# Import Converter module\n",
    "from animrec import Converter"
   ]
  },
  {
   "cell_type": "code",
   "execution_count": null,
   "metadata": {
    "inputHidden": false,
    "outputHidden": false
   },
   "outputs": [],
   "source": [
    "# Read converter documentation\n",
    "print(Converter.__doc__)"
   ]
  },
  {
   "cell_type": "code",
   "execution_count": null,
   "metadata": {
    "inputHidden": false,
    "outputHidden": false
   },
   "outputs": [],
   "source": [
    "# Set parameters\n",
    "dir_in    = \"/Users/jollejolles/Dropbox/Science/5 Coding/Piloting/aaa\"\n",
    "dir_out   = \"/Users/jollejolles/Dropbox/Science/5 Coding/Piloting/aab\"\n",
    "vidtype   = \".h264\"\n",
    "conv_type = \"withframe\"\n",
    "remove    = False\n",
    "pools     = 2\n",
    "resizeval = 0.5\n",
    "displayframenr = 100"
   ]
  },
  {
   "cell_type": "code",
   "execution_count": null,
   "metadata": {},
   "outputs": [],
   "source": [
    "# Run Converter\n",
    "convert = Converter(dir_in, dir_out, vidtype, conv_type, remove, \n",
    "              pools, resizeval, displayframenr)"
   ]
  }
 ],
 "metadata": {
  "kernel_info": {
   "name": "python2"
  },
  "kernelspec": {
   "display_name": "Python 2",
   "language": "python",
   "name": "python2"
  },
  "language_info": {
   "codemirror_mode": {
    "name": "ipython",
    "version": 2
   },
   "file_extension": ".py",
   "mimetype": "text/x-python",
   "name": "python",
   "nbconvert_exporter": "python",
   "pygments_lexer": "ipython2",
   "version": "2.7.15"
  },
  "nteract": {
   "version": "0.12.3"
  }
 },
 "nbformat": 4,
 "nbformat_minor": 2
}
