{
  "cells": [
    {
      "cell_type": "code",
      "source": [
        "# Import AnimRec\n",
        "import animrec"
      ],
      "outputs": [],
      "execution_count": null,
      "metadata": {}
    },
    {
      "cell_type": "code",
      "source": [
        "# Initiate the recorder instance\n",
        "AR = animrec.Recorder()"
      ],
      "outputs": [],
      "execution_count": null,
      "metadata": {
        "collapsed": false,
        "inputHidden": false,
        "outputHidden": false
      }
    },
    {
      "cell_type": "code",
      "source": [
        "# Read the documentation for the Recorder\n",
        "print(AR.__doc__)"
      ],
      "outputs": [],
      "execution_count": null,
      "metadata": {
        "collapsed": false,
        "inputHidden": false,
        "outputHidden": false
      }
    },
    {
      "cell_type": "code",
      "source": [
        "# Set Recorder with all default settings (just to show all input functionality)\n",
        "AR.set_config(recdir = \"recordings\", setupdir = \"setup\", Label = \"test\",\n",
        "              rectype = \"img\", rotation = 0, brighttune = 0, gains = (1.0, 2.5),\n",
        "              brightness = 45, contrast = 20, saturation = -100, iso = 200,\n",
        "              sharpness = 50, compensation = 0, shutterspeed = 10000,\n",
        "              imgdims = (3280,2464), viddims = (1640,1232), imgfps = 1,\n",
        "              vidfps = 24, imgwait = 1.0, imgnr = 60, imgtime = 60,\n",
        "              imgqualitty = 50, vidduration = 10, viddelay = 0, vidquality = 11)"
      ],
      "outputs": [],
      "execution_count": null,
      "metadata": {
        "collapsed": false,
        "inputHidden": false,
        "outputHidden": false
      }
    },
    {
      "cell_type": "code",
      "source": [
        "# Check config settings \n",
        "print(AR.config)"
      ],
      "outputs": [],
      "execution_count": null,
      "metadata": {
        "collapsed": false,
        "inputHidden": false,
        "outputHidden": false
      }
    },
    {
      "cell_type": "code",
      "source": [
        "# Create 3 test images for setting the optimal light levels\n",
        "AR.set_config(label = \"test\", rectype = \"img\", iso = 200, compensation = 0, contrast = 20)\n",
        "AR.set_config(brightness = 45)\n",
        "AR.record()\n",
        "AR.set_config(brightness = 50)\n",
        "AR.record()\n",
        "AR.set_config(brightness = 55)\n",
        "AR.record()"
      ],
      "outputs": [],
      "execution_count": null,
      "metadata": {
        "collapsed": false,
        "outputHidden": false,
        "inputHidden": false
      }
    },
    {
      "cell_type": "code",
      "source": [
        "# Dynamically set the Gains\n",
        "AR.set_gains()"
      ],
      "outputs": [],
      "execution_count": null,
      "metadata": {}
    },
    {
      "cell_type": "code",
      "source": [
        "# Draw the region of interest\n",
        "AR.set_roi()"
      ],
      "outputs": [],
      "execution_count": null,
      "metadata": {}
    },
    {
      "cell_type": "code",
      "source": [
        "# Create configuration for recording short video\n",
        "AR.set_config(label = \"testvid\", rectype = \"vid\", saturation = 50, vidduration = 7)\n",
        "\n",
        "# Record a number of sessions, with each new one waiting for user input\n",
        "AR.record()  #or AR.record(singlevid = False)\n",
        "\n",
        "# Or record just a single video\n",
        "AR.record(singlevid = True)"
      ],
      "outputs": [],
      "execution_count": null,
      "metadata": {}
    },
    {
      "cell_type": "code",
      "source": [
        "# Create configuration for recording a single image\n",
        "AR.set_config(label = \"testsingleimg\", rectype = \"img\", imgdims = (1640,1232))\n",
        "\n",
        "# Run recorder\n",
        "AR.record()"
      ],
      "outputs": [],
      "execution_count": null,
      "metadata": {
        "collapsed": false,
        "inputHidden": false,
        "outputHidden": false
      }
    },
    {
      "cell_type": "code",
      "source": [
        "# Create configuration for recording an image sequence\n",
        "AR.set_config(label = \"testimgseq\", rectype = \"imgseq\", imgdims = (1640,1232), \n",
        "              imgwait = 3, imgnr = 10, imgtime = 20)\n",
        "\n",
        "# Run recorder\n",
        "AR.record()"
      ],
      "outputs": [],
      "execution_count": null,
      "metadata": {
        "collapsed": false,
        "inputHidden": false,
        "outputHidden": false
      }
    },
    {
      "cell_type": "markdown",
      "source": [
        "#### Scheduled recordings"
      ],
      "metadata": {}
    },
    {
      "cell_type": "code",
      "source": [
        "# Read the documentation for the schedule method\n",
        "print(AR.schedule.__doc__)"
      ],
      "outputs": [],
      "execution_count": null,
      "metadata": {
        "collapsed": false,
        "outputHidden": false,
        "inputHidden": false
      }
    },
    {
      "cell_type": "code",
      "source": [
        "# Test the timeplan planned to be used for scheduled recordings\n",
        "AR.schedule(timeplan = \"*/10 */2 10-15 * *\", test = True)"
      ],
      "outputs": [],
      "execution_count": null,
      "metadata": {
        "collapsed": false,
        "outputHidden": false,
        "inputHidden": false
      }
    },
    {
      "cell_type": "code",
      "source": [
        "# Schedule a job\n",
        "# Important: Make sure Recorder configuration timing settings are within the timespan \n",
        "# between subsequent scheduled recordings based on the provided timeplan. For example, \n",
        "# a vid duration of 20 min and a scheduled recording every 15 min between 13:00-16:00 \n",
        "# (*/15 13-16 * * *) will fail.\n",
        "AR.schedule(jobname = \"rec1\", timeplan = \"*/10 */2 10-15 * *\")"
      ],
      "outputs": [],
      "execution_count": null,
      "metadata": {
        "collapsed": false,
        "outputHidden": false,
        "inputHidden": false
      }
    },
    {
      "cell_type": "code",
      "source": [
        "# Show all jobs currently scheduled (both enabled and disabled jobs)\n",
        "AR.schedule(showjobs = True)"
      ],
      "outputs": [],
      "execution_count": null,
      "metadata": {
        "collapsed": false,
        "outputHidden": false,
        "inputHidden": false
      }
    },
    {
      "cell_type": "code",
      "source": [
        "# Disable a specific job\n",
        "AR.schedule(jobname = \"rec1\", enable = False)"
      ],
      "outputs": [],
      "execution_count": null,
      "metadata": {
        "collapsed": false,
        "outputHidden": false,
        "inputHidden": false
      }
    },
    {
      "cell_type": "code",
      "source": [
        "# Clear a specific job\n",
        "AR.schedule(jobname = \"rec1\", clear = \"job\")"
      ],
      "outputs": [],
      "execution_count": null,
      "metadata": {
        "collapsed": false,
        "outputHidden": false,
        "inputHidden": false
      }
    }
  ],
  "metadata": {
    "kernel_info": {
      "name": "python2"
    },
    "kernelspec": {
      "name": "python2",
      "language": "python",
      "display_name": "Python 2"
    },
    "language_info": {
      "mimetype": "text/x-python",
      "nbconvert_exporter": "python",
      "name": "python",
      "pygments_lexer": "ipython2",
      "version": "2.7.12",
      "file_extension": ".py",
      "codemirror_mode": {
        "version": 2,
        "name": "ipython"
      }
    },
    "nteract": {
      "version": "0.12.3"
    }
  },
  "nbformat": 4,
  "nbformat_minor": 2
}