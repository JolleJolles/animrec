{
  "cells": [
    {
      "cell_type": "code",
      "source": [
        "# Import AnimRec\n",
        "import animrec"
      ],
      "outputs": [],
      "execution_count": null,
      "metadata": {}
    },
    {
      "cell_type": "code",
      "source": [
        "# Initiate the recorder instance\n",
        "AR = animrec.Recorder()"
      ],
      "outputs": [],
      "execution_count": null,
      "metadata": {
        "collapsed": false,
        "outputHidden": false,
        "inputHidden": false
      }
    },
    {
      "cell_type": "code",
      "source": [
        "# Read the documentation\n",
        "print(AR.__doc__)"
      ],
      "outputs": [],
      "execution_count": null,
      "metadata": {
        "collapsed": false,
        "outputHidden": false,
        "inputHidden": false
      }
    },
    {
      "cell_type": "code",
      "source": [
        "# Set Recorder with all standard settings (to show all functionalities)\n",
        "AR.set_config(recdir = \"recordings\", setupdir = \"setup\", Label = \"test\",\n",
        "              rectype = \"img\", rotation = 0, brighttune = 0, gains = (1.0, 2.5),\n",
        "              brightness = 45, contrast = 20, saturation = -100, iso = 200,\n",
        "              sharpness = 50, compensation = 0, shutterspeed = 10000,\n",
        "              imgdims = (3280,2464), viddims = (1640,1232), imgfps = 1,\n",
        "              vidfps = 24, imgwait = 1.0, imgnr = 60, imgtime = 60,\n",
        "              imgqualitty = 50, vidduration = 10, viddelay = 0, vidquality = 11)"
      ],
      "outputs": [],
      "execution_count": null,
      "metadata": {
        "collapsed": false,
        "outputHidden": false,
        "inputHidden": false
      }
    },
    {
      "cell_type": "code",
      "source": [
        "# Check config settings \n",
        "print(AR.config)"
      ],
      "outputs": [],
      "execution_count": null,
      "metadata": {
        "collapsed": false,
        "outputHidden": false,
        "inputHidden": false
      }
    },
    {
      "cell_type": "code",
      "source": [
        "# Record short video(s)\n",
        "AR.set_config(label = \"testvid\", rectype = \"vid\", saturation = 50, vidduration = 7)\n",
        "AR.record()"
      ],
      "outputs": [],
      "execution_count": null,
      "metadata": {}
    },
    {
      "cell_type": "code",
      "source": [
        "# Record one image\n",
        "AR.set_config(label = \"testsingleimg\", rectype = \"img\", imgdims = (1640,1232))\n",
        "AR.record()"
      ],
      "outputs": [],
      "execution_count": null,
      "metadata": {
        "collapsed": false,
        "outputHidden": false,
        "inputHidden": false
      }
    },
    {
      "cell_type": "code",
      "source": [
        "# Record image sequence\n",
        "AR.set_config(label = \"testimgseq\", rectype = \"imgseq\", imgdims = (1640,1232), \n",
        "              imgwait = 3, imgnr = 10, imgtime = 20)\n",
        "AR.record()"
      ],
      "outputs": [],
      "execution_count": null,
      "metadata": {
        "collapsed": false,
        "outputHidden": false,
        "inputHidden": false
      }
    }
  ],
  "metadata": {
    "kernelspec": {
      "name": "python2",
      "language": "python",
      "display_name": "Python 2"
    },
    "language_info": {
      "mimetype": "text/x-python",
      "nbconvert_exporter": "python",
      "name": "python",
      "pygments_lexer": "ipython2",
      "version": "2.7.12",
      "file_extension": ".py",
      "codemirror_mode": {
        "version": 2,
        "name": "ipython"
      }
    },
    "kernel_info": {
      "name": "python2"
    },
    "nteract": {
      "version": "0.12.3"
    }
  },
  "nbformat": 4,
  "nbformat_minor": 2
}