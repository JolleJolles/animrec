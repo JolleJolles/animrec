{
 "cells": [
  {
   "cell_type": "code",
   "execution_count": null,
   "metadata": {},
   "outputs": [],
   "source": [
    "# Import AnimRec\n",
    "import animrec"
   ]
  },
  {
   "cell_type": "code",
   "execution_count": null,
   "metadata": {
    "collapsed": false,
    "inputHidden": false,
    "outputHidden": false
   },
   "outputs": [],
   "source": [
    "# Initiate the recorder instance\n",
    "AR = animrec.Recorder()"
   ]
  },
  {
   "cell_type": "code",
   "execution_count": null,
   "metadata": {
    "collapsed": false,
    "inputHidden": false,
    "outputHidden": false
   },
   "outputs": [],
   "source": [
    "# Read the documentation\n",
    "print(AR.__doc__)"
   ]
  },
  {
   "cell_type": "code",
   "execution_count": null,
   "metadata": {
    "collapsed": false,
    "inputHidden": false,
    "outputHidden": false
   },
   "outputs": [],
   "source": [
    "# Set Recorder with all standard settings (to show all functionalities)\n",
    "AR.set_config(recdir = \"recordings\", setupdir = \"setup\", Label = \"test\",\n",
    "              rectype = \"img\", rotation = 0, brighttune = 0, gains = (1.0, 2.5),\n",
    "              brightness = 45, contrast = 20, saturation = -100, iso = 200,\n",
    "              sharpness = 50, compensation = 0, shutterspeed = 10000,\n",
    "              imgdims = (3280,2464), viddims = (1640,1232), imgfps = 1,\n",
    "              vidfps = 24, imgwait = 1.0, imgnr = 60, imgtime = 60,\n",
    "              imgqualitty = 50, vidduration = 10, viddelay = 0, vidquality = 11)"
   ]
  },
  {
   "cell_type": "code",
   "execution_count": null,
   "metadata": {
    "collapsed": false,
    "inputHidden": false,
    "outputHidden": false
   },
   "outputs": [],
   "source": [
    "# Check config settings \n",
    "print(AR.config)"
   ]
  },
  {
   "cell_type": "code",
   "execution_count": null,
   "metadata": {},
   "outputs": [],
   "source": [
    "# Draw the region of interest\n",
    "AR.set_roi()"
   ]
  },
  {
   "cell_type": "code",
   "execution_count": null,
   "metadata": {},
   "outputs": [],
   "source": [
    "# Dynamically set the Gains\n",
    "AR.set_gains()"
   ]
  },
  {
   "cell_type": "code",
   "execution_count": null,
   "metadata": {},
   "outputs": [],
   "source": [
    "# Record short video(s)\n",
    "AR.set_config(label = \"testvid\", rectype = \"vid\", saturation = 50, vidduration = 7)\n",
    "AR.record()"
   ]
  },
  {
   "cell_type": "code",
   "execution_count": null,
   "metadata": {
    "collapsed": false,
    "inputHidden": false,
    "outputHidden": false
   },
   "outputs": [],
   "source": [
    "# Record one image\n",
    "AR.set_config(label = \"testsingleimg\", rectype = \"img\", imgdims = (1640,1232))\n",
    "AR.record()"
   ]
  },
  {
   "cell_type": "code",
   "execution_count": null,
   "metadata": {
    "collapsed": false,
    "inputHidden": false,
    "outputHidden": false
   },
   "outputs": [],
   "source": [
    "# Record image sequence\n",
    "AR.set_config(label = \"testimgseq\", rectype = \"imgseq\", imgdims = (1640,1232), \n",
    "              imgwait = 3, imgnr = 10, imgtime = 20)\n",
    "AR.record()"
   ]
  }
 ],
 "metadata": {
  "kernel_info": {
   "name": "python2"
  },
  "kernelspec": {
   "display_name": "Python 2",
   "language": "python",
   "name": "python2"
  },
  "language_info": {
   "codemirror_mode": {
    "name": "ipython",
    "version": 2
   },
   "file_extension": ".py",
   "mimetype": "text/x-python",
   "name": "python",
   "nbconvert_exporter": "python",
   "pygments_lexer": "ipython2",
   "version": "2.7.12"
  },
  "nteract": {
   "version": "0.12.3"
  }
 },
 "nbformat": 4,
 "nbformat_minor": 2
}
