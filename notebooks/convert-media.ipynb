{
 "cells": [
  {
   "cell_type": "markdown",
   "metadata": {},
   "source": [
    "# Converting media with pirecorder"
   ]
  },
  {
   "cell_type": "markdown",
   "metadata": {},
   "source": [
    "<span style=\"font-size:larger;\">This notebook will give a quick tutorial of how to convert your mediafiles with the Convert module of the picamera package. For detailed documentation, go to [http://jollejolles.github.io/pirecorder](http://jollejolles.github.io/pirecorder)</span>"
   ]
  },
  {
   "cell_type": "markdown",
   "metadata": {},
   "source": [
    "## The Convert module"
   ]
  },
  {
   "cell_type": "markdown",
   "metadata": {},
   "source": [
    "The convert module of the *pirecorder* package facilitates the converting of recorded media, both of individual images and videos as well as directories of videos, with the ability to resize, add timestamps on each frame, and monitor folders for automatic conversion. It can be set to optimally use the number of computer cores available, can be run directly from the command line, and works across different operating systems.\n"
   ]
  },
  {
   "cell_type": "markdown",
   "metadata": {},
   "source": [
    "## Convert a directory of videos"
   ]
  },
  {
   "cell_type": "markdown",
   "metadata": {},
   "source": [
    "To convert a directory of videos, simply import and run the `Convert` module and provide the directory where the media files are located (`indir` parameter), and where you want to store them (`outdir` parameter). This conversion is very fast. By default it will look for files with filetype \"h264\", but this can be changed with the `type` parameter. For example, to convert all videos in a folder called `videos` and store them in a nested folder called `converted` run:"
   ]
  },
  {
   "cell_type": "code",
   "execution_count": null,
   "metadata": {},
   "outputs": [],
   "source": [
    "from pirecorder import Convert\n",
    "Convert(indir = \"videos\", outdir = \"videos/converted\")"
   ]
  },
  {
   "cell_type": "markdown",
   "metadata": {},
   "source": [
    "If the `outdir` does not exist it will be automatically created. By default, videos that are converted will not be overwritten (`overwrite=False`). Therefore, if some or all videos in the `indir` are already converted it will skip those automatically."
   ]
  },
  {
   "cell_type": "markdown",
   "metadata": {},
   "source": [
    "## Continuously monitor a folder for new files"
   ]
  },
  {
   "cell_type": "markdown",
   "metadata": {},
   "source": [
    "With the `Convert` module it is also possible to continuously monitor a folder for new files with a set delay to wait between subsequent checks. This makes it easy to integrate with an automated media recording workflow. Simply add `sleeptime=XX` where `XX` is the time in seconds between subsequent checks.\n"
   ]
  },
  {
   "cell_type": "markdown",
   "metadata": {},
   "source": [
    "## Convert images to video"
   ]
  },
  {
   "cell_type": "markdown",
   "metadata": {},
   "source": [
    "Using the `Convert` module it is also easy to convert a directory of (timelapse) images to video. For this you need to set the `type` parameter to the image format you use, and set the `imgfps` parameter to the desired framerate of the video. For example, to create a video of 10fps:"
   ]
  },
  {
   "cell_type": "code",
   "execution_count": null,
   "metadata": {},
   "outputs": [],
   "source": [
    "Convert(indir = \"media/vidimages\", outdir = \"media\", type = \".png\", imgfps = 10)"
   ]
  },
  {
   "cell_type": "markdown",
   "metadata": {},
   "source": [
    "To then for example change the framerate to 30fps, simple run:"
   ]
  },
  {
   "cell_type": "code",
   "execution_count": null,
   "metadata": {},
   "outputs": [],
   "source": [
    "Convert(indir = \"media/vidimages\", outdir = \"media\", type = \".png\", imgfps = 30, overwrite = True)"
   ]
  },
  {
   "cell_type": "markdown",
   "metadata": {},
   "source": [
    "To convert a folder consisting of multiple image folders, you can use the `listfiles` function from my [pythutils package](https://github.com/jollejolles/pythutils), which is automatically installed with `pirecorder`, as follows:"
   ]
  },
  {
   "cell_type": "code",
   "execution_count": null,
   "metadata": {},
   "outputs": [],
   "source": [
    "imagedirs = listfiles(dir = \"parentdir\", type = \"dir\", keepdir = True)\n",
    "for imagedir in imagedirs:\n",
    "    Convert(indir = imagedir, outdir = \"converted\", type = \".png\")"
   ]
  },
  {
   "cell_type": "markdown",
   "metadata": {},
   "source": [
    "## Other settings"
   ]
  },
  {
   "cell_type": "markdown",
   "metadata": {},
   "source": [
    "The `Convert` module can run multiple conversions at the same time. This works optimally when linked to the number of processing cores of the computer being used. By default it will presume a minimum of 4 cores are available. To change this, use the `pools` parameter, e.g. `pools = 4`. When running the convert functionality from python you can stop the converting by entering `ctrl+c`, and when running it in a jupyter notebook simply press the stop button in the menu bar.\n",
    "\n",
    "By default the original videos are not deleted. If you want this to be done automatically, such as when you incorporate the `Convert` module in your own automation functions, then add `delete = True`. Be careful to test your desired functionality first to not loose any unwanted data!\n",
    "\n",
    "To display the frame number on the top-left corner of each frame, simply add `withframe = True`. The conversion will now be a bit slower as it will go through each frame to draw the frame number, but due to the pooling should still work fine.\n",
    "\n",
    "By default the generated media will have the same dimensions as the originals. However, these dimensions can be decreased (as well as increased if needed), such as when wanting to reduce the file size. To do so use the `resizeval` parameter, which defaults to 1 to keep the same size. For example, to create a video with half the dimensions of the originals use `resizeval = 0.5`.\n",
    "\n",
    "So, for example, if you want to optimally use the 4 cores of your computer for converting, do not want the original videos to be deleted after converting, have frame numbers on each video, and have the videos resized to half the size:"
   ]
  },
  {
   "cell_type": "code",
   "execution_count": null,
   "metadata": {},
   "outputs": [],
   "source": [
    "Convert(pools = 4, delete = False, withframe = True, resizeval = 0.5)"
   ]
  },
  {
   "cell_type": "markdown",
   "metadata": {},
   "source": [
    "## Convert directly from the command line"
   ]
  },
  {
   "cell_type": "markdown",
   "metadata": {},
   "source": [
    "When pirecorder is installed it is also possible to use the pirecorder convert functionality straight from the command line using the `convert` command, just like any other native command. You can use the same parameters as when running the `Convert` command in python, e.g.:"
   ]
  },
  {
   "cell_type": "code",
   "execution_count": null,
   "metadata": {},
   "outputs": [],
   "source": [
    "convert --indir VIDEOS --outdir CONVERTED --type \".h264\" --withframe True /\n",
    "--pools 4 --resizeval 0.5 --sleeptime 5 --delete False"
   ]
  }
 ],
 "metadata": {
  "kernelspec": {
   "display_name": "jun20",
   "language": "python",
   "name": "jun20"
  },
  "language_info": {
   "codemirror_mode": {
    "name": "ipython",
    "version": 3
   },
   "file_extension": ".py",
   "mimetype": "text/x-python",
   "name": "python",
   "nbconvert_exporter": "python",
   "pygments_lexer": "ipython3",
   "version": "3.8.3"
  }
 },
 "nbformat": 4,
 "nbformat_minor": 2
}
