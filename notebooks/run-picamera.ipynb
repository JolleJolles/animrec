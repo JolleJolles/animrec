{
 "cells": [
  {
   "cell_type": "markdown",
   "metadata": {},
   "source": [
    "### Using picamera"
   ]
  },
  {
   "cell_type": "code",
   "execution_count": null,
   "metadata": {},
   "outputs": [],
   "source": [
    "# Import AnimRec\n",
    "import picamera"
   ]
  },
  {
   "cell_type": "code",
   "execution_count": null,
   "metadata": {
    "inputHidden": false,
    "outputHidden": false
   },
   "outputs": [],
   "source": [
    "# Initiate the recorder instance\n",
    "PiRec = picamera.Recorder()"
   ]
  },
  {
   "cell_type": "code",
   "execution_count": null,
   "metadata": {
    "inputHidden": false,
    "outputHidden": false
   },
   "outputs": [],
   "source": [
    "# Read the documentation for the Recorder\n",
    "print(PiRec.__doc__)"
   ]
  },
  {
   "cell_type": "code",
   "execution_count": null,
   "metadata": {
    "inputHidden": false,
    "outputHidden": false
   },
   "outputs": [],
   "source": [
    "# Set Recorder with all default settings (to show all input functionality)\n",
    "PiRec.set_config(recdir = \"recordings\", label = \"test\", rectype = \"img\", \n",
    "                 rotation = 0, brighttune = 0, gains = (1.0, 2.5),\n",
    "                 brightness = 45, contrast = 20, saturation = -100, iso = 200,\n",
    "                 sharpness = 50, compensation = 0, shutterspeed = 10000,\n",
    "                 imgdims = (3280,2464), viddims = (1640,1232), imgfps = 1,\n",
    "                 vidfps = 24, imgwait = 1.0, imgnr = 60, imgtime = 60,\n",
    "                 imgquality = 50, vidduration = 10, viddelay = 0, vidquality = 11)"
   ]
  },
  {
   "cell_type": "code",
   "execution_count": null,
   "metadata": {
    "inputHidden": false,
    "outputHidden": false
   },
   "outputs": [],
   "source": [
    "# Check current config settings \n",
    "print(PiRec.config)"
   ]
  },
  {
   "cell_type": "code",
   "execution_count": null,
   "metadata": {
    "inputHidden": false,
    "outputHidden": false
   },
   "outputs": [],
   "source": [
    "# Create 3 test images for setting the optimal light levels\n",
    "PiRec.set_config(label = \"test\", rectype = \"img\", iso = 200, compensation = 0, contrast = 20)\n",
    "PiRec.set_config(brightness = 45)\n",
    "PiRec.record()\n",
    "PiRec.set_config(brightness = 50)\n",
    "PiRec.record()\n",
    "PiRec.set_config(brightness = 55)\n",
    "PiRec.record()"
   ]
  },
  {
   "cell_type": "code",
   "execution_count": null,
   "metadata": {},
   "outputs": [],
   "source": [
    "# Dynamically set the Gains\n",
    "PiRec.set_gains()"
   ]
  },
  {
   "cell_type": "code",
   "execution_count": null,
   "metadata": {},
   "outputs": [],
   "source": [
    "# Draw the region of interest\n",
    "PiRec.set_roi()"
   ]
  },
  {
   "cell_type": "code",
   "execution_count": null,
   "metadata": {},
   "outputs": [],
   "source": [
    "### Examples for the different recording types:\n",
    "# Create configuration for recording a single short video\n",
    "PiRec.set_config(label = \"testvid\", rectype = \"vid\", saturation = 50, vidduration = 7)\n",
    "\n",
    "# Create configuration for recording videos in sessions with each new one waiting for user input\n",
    "PiRec.set_config(label = \"testvidseq\", rectype = \"vidseq\")\n",
    "\n",
    "# Create configuration for recording a single image\n",
    "PiRec.set_config(label = \"testsingleimg\", rectype = \"img\", imgdims = (1640,1232))\n",
    "\n",
    "# Create configuration for recording an image sequence\n",
    "PiRec.set_config(label = \"testimgseq\", rectype = \"imgseq\", imgdims = (1640,1232), \n",
    "              imgwait = 3, imgnr = 10, imgtime = 20)"
   ]
  },
  {
   "cell_type": "code",
   "execution_count": null,
   "metadata": {},
   "outputs": [],
   "source": [
    "# Start recording\n",
    "PiRec.record()"
   ]
  },
  {
   "cell_type": "markdown",
   "metadata": {},
   "source": [
    "### Schedule recordings"
   ]
  },
  {
   "cell_type": "code",
   "execution_count": null,
   "metadata": {
    "inputHidden": false,
    "outputHidden": false
   },
   "outputs": [],
   "source": [
    "# Read the documentation for the schedule method\n",
    "print(PiRec.schedule.__doc__)"
   ]
  },
  {
   "cell_type": "code",
   "execution_count": null,
   "metadata": {
    "inputHidden": false,
    "outputHidden": false
   },
   "outputs": [],
   "source": [
    "# Test the timeplan planned to be used for scheduled recordings\n",
    "PiRec.schedule(timeplan = \"*/10 */2 10-15 * *\", test = True)"
   ]
  },
  {
   "cell_type": "code",
   "execution_count": null,
   "metadata": {
    "inputHidden": false,
    "outputHidden": false
   },
   "outputs": [],
   "source": [
    "# Schedule a job\n",
    "# Important: Make sure Recorder configuration timing settings are within the timespan \n",
    "# between subsequent scheduled recordings based on the provided timeplan. For example, \n",
    "# a vid duration of 20 min and a scheduled recording every 15 min between 13:00-16:00 \n",
    "# (*/15 13-16 * * *) will fail.\n",
    "PiRec.schedule(jobname = \"rec1\", timeplan = \"*/10 */2 10-15 * *\")"
   ]
  },
  {
   "cell_type": "code",
   "execution_count": null,
   "metadata": {
    "inputHidden": false,
    "outputHidden": false
   },
   "outputs": [],
   "source": [
    "# Show all jobs currently scheduled (both enabled and disabled jobs)\n",
    "PiRec.schedule(showjobs = True)"
   ]
  },
  {
   "cell_type": "code",
   "execution_count": null,
   "metadata": {
    "inputHidden": false,
    "outputHidden": false
   },
   "outputs": [],
   "source": [
    "# Disable a specific job\n",
    "PiRec.schedule(jobname = \"rec1\", enable = False)"
   ]
  },
  {
   "cell_type": "code",
   "execution_count": null,
   "metadata": {
    "inputHidden": false,
    "outputHidden": false
   },
   "outputs": [],
   "source": [
    "# Clear a specific job\n",
    "PiRec.schedule(jobname = \"rec1\", clear = \"job\")"
   ]
  }
 ],
 "metadata": {
  "kernel_info": {
   "name": "python2"
  },
  "kernelspec": {
   "display_name": "Python 2",
   "language": "python",
   "name": "python2"
  },
  "language_info": {
   "codemirror_mode": {
    "name": "ipython",
    "version": 2
   },
   "file_extension": ".py",
   "mimetype": "text/x-python",
   "name": "python",
   "nbconvert_exporter": "python",
   "pygments_lexer": "ipython2",
   "version": "2.7.12"
  },
  "nteract": {
   "version": "0.12.3"
  }
 },
 "nbformat": 4,
 "nbformat_minor": 2
}
