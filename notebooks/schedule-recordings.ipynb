{
 "cells": [
  {
   "cell_type": "markdown",
   "metadata": {},
   "source": [
    "# Schedule recordings"
   ]
  },
  {
   "cell_type": "markdown",
   "metadata": {},
   "source": [
    "<span style=\"font-size:larger;\">This notebook will give a quick tutorial of how to schedule recordings, configured with the PiRecorder module of the picamera package. For detailed documentation, go to [http://jollejolles.github.io/pirecorder](http://jollejolles.github.io/pirecorder)</span>"
   ]
  },
  {
   "cell_type": "markdown",
   "metadata": {},
   "source": [
    "## Running the schedule function"
   ]
  },
  {
   "cell_type": "markdown",
   "metadata": {},
   "source": [
    "Besides starting recordings directly, it is possible to schedule recordings to start recordings (repeatedly) in the future. For this there is the `schedule` function, which creates unique recording jobs (`jobname`) with specific `timeplan`s. An overview with a concise description of all parameters can be found at the bottom of this page.\n",
    "\n",
    "When using the schedule function make sure you don't have multiple recording jobs at the same time as the camera can ofcourse only deal with a single recording at a time. Also scheduling is not possible with the \"vidseq\" rectype as that option waits for user input between videos. To run the schedule function, open Python, initiate a PiRecorder isntance with your desired configfile, and run `schedule()`:"
   ]
  },
  {
   "cell_type": "code",
   "execution_count": null,
   "metadata": {},
   "outputs": [],
   "source": [
    "import pirecorder\n",
    "rec = pirecorder.PiRecorder()\n",
    "rec.schedule()"
   ]
  },
  {
   "cell_type": "markdown",
   "metadata": {},
   "source": [
    "## Set the timeplan"
   ]
  },
  {
   "cell_type": "markdown",
   "metadata": {},
   "source": [
    "The `timeplan` parameter expects a code string that is build on [CRON](https://en.wikipedia.org/wiki/Cron) and should consists of the following parts:\n",
    "\n",
    "```\n",
    "* * * * *\n",
    "- - - - -\n",
    "| | | | |\n",
    "| | | | +----- day of week (0 - 7) (sunday = 0 or 7)\n",
    "| | | +---------- month (1 - 12)\n",
    "| | +--------------- day of month (1 - 31)\n",
    "| +-------------------- hour (0 - 23)\n",
    "+------------------------- min (0 - 59)\n",
    "```\n",
    "\n",
    "Each of these parts supports wildcards (\\*), ranges (2-5), and lists (2,5,6,11). For example, if you want to schedule a recording at 22:00, every workday of the week, enter the code `0 22 * * 1-5`. The minimum possible time between subsequent scheduled recordings is one minute. Smaller intervals between recordings is of course possible for images with the imgseq command with the `Record` method.\n",
    "\n",
    "It is important to make sure that the PiRecorder configuration timing settings are within the timespan between subsequent scheduled recordings based on the provided timeplan. For example, a video duration of 20 min and a scheduled recording every 15 min between 13:00-16:00 (`*/15 13-16 * * *`) will fail. This will be checked automatically."
   ]
  },
  {
   "cell_type": "markdown",
   "metadata": {},
   "source": [
    "## Test your timeplan"
   ]
  },
  {
   "cell_type": "markdown",
   "metadata": {},
   "source": [
    "To test a timeplan before linking it to a job, simply set the `test` parameter to `True`. For example:"
   ]
  },
  {
   "cell_type": "code",
   "execution_count": null,
   "metadata": {},
   "outputs": [],
   "source": [
    "rec.schedule(timeplan = \"*/10 */2 10-15 * *\", test = True)"
   ]
  },
  {
   "cell_type": "markdown",
   "metadata": {},
   "source": [
    "will state \"Your timeplan will run Every 10 minutes, every 2 hours, between day 10 and 15 of the month\"."
   ]
  },
  {
   "cell_type": "markdown",
   "metadata": {},
   "source": [
    "## Plan a recording job"
   ]
  },
  {
   "cell_type": "markdown",
   "metadata": {},
   "source": [
    "When you have a correct timeplan that works as desired, you can link it to a new or existing job with the `jobname` parameter. Note that by default when creating a new job it won't be enabled immediately. For example, to create a new job named \"rec1\" :"
   ]
  },
  {
   "cell_type": "code",
   "execution_count": null,
   "metadata": {},
   "outputs": [],
   "source": [
    "rec.schedule(timeplan = \"*/10 */2 10-15 * *\", jobname = \"rec1\")"
   ]
  },
  {
   "cell_type": "markdown",
   "metadata": {},
   "source": [
    "## Enable/disable a job"
   ]
  },
  {
   "cell_type": "markdown",
   "metadata": {},
   "source": [
    "To enable/disable a job, enter the `jobname` parameter and set the `enable` parameter to either `True` or `False` (the default). For example, to enable an existing job named \"rec1\":"
   ]
  },
  {
   "cell_type": "code",
   "execution_count": null,
   "metadata": {},
   "outputs": [],
   "source": [
    "rec.schedule(jobname = \"rec1\", enable = True)"
   ]
  },
  {
   "cell_type": "markdown",
   "metadata": {},
   "source": [
    "## Show all jobs"
   ]
  },
  {
   "cell_type": "markdown",
   "metadata": {},
   "source": [
    "It is easy to see all existing jobs and if they are disabled or when the next recording will start. To show this information, simply set the `showjobs` parameter to `True`:"
   ]
  },
  {
   "cell_type": "code",
   "execution_count": null,
   "metadata": {},
   "outputs": [],
   "source": [
    "rec.schedule(showjobs = True)"
   ]
  },
  {
   "cell_type": "markdown",
   "metadata": {},
   "source": [
    "would for example show:\n",
    "```\n",
    "Job       Timeplan             Next recording\n",
    "---------------------------------------------\n",
    "rec1      */10 */2 10-15 *     disabled\n",
    "rec2      * 3 * *              2020-06-01 03:00:00\n",
    "```"
   ]
  },
  {
   "cell_type": "markdown",
   "metadata": {},
   "source": [
    "## Remove jobs"
   ]
  },
  {
   "cell_type": "markdown",
   "metadata": {},
   "source": [
    "Using the `schedule` function it is also easy to remove jobs. For example, to remove a specific recording job named \"rec1\" enter:"
   ]
  },
  {
   "cell_type": "code",
   "execution_count": null,
   "metadata": {},
   "outputs": [],
   "source": [
    "rec.schedule(jobname = \"rec1\", clear = \"job\")"
   ]
  },
  {
   "cell_type": "markdown",
   "metadata": {},
   "source": [
    "And to remove all jobs:"
   ]
  },
  {
   "cell_type": "code",
   "execution_count": null,
   "metadata": {},
   "outputs": [],
   "source": [
    "rec.schedule(jobname = \"rec1\", clear = \"all\")"
   ]
  },
  {
   "cell_type": "markdown",
   "metadata": {},
   "source": [
    "## Schedule recordings from the command line"
   ]
  },
  {
   "cell_type": "markdown",
   "metadata": {},
   "source": [
    "Like for the other modules it is also possible to directly schedule recordings from the command line! You can enter all parameters like explained above by adding to the `schedule` command in terminal. For example:"
   ]
  },
  {
   "cell_type": "code",
   "execution_count": null,
   "metadata": {},
   "outputs": [],
   "source": [
    "schedule --timeplan \"20 8 * * *\" --test True\n",
    "schedule --jobname \"rec1\" --timeplan \"20 8 * * *\" --enable False\n",
    "schedule --jobname \"rec1\" --enable True\n",
    "schedule --showjobs True"
   ]
  },
  {
   "cell_type": "markdown",
   "metadata": {},
   "source": [
    "Entering just `schedule` without any additional parameters will just show an overview of all current jobs and their status."
   ]
  }
 ],
 "metadata": {
  "kernel_info": {
   "name": "python2"
  },
  "kernelspec": {
   "display_name": "Python 2",
   "language": "python",
   "name": "python2"
  },
  "language_info": {
   "codemirror_mode": {
    "name": "ipython",
    "version": 3
   },
   "file_extension": ".py",
   "mimetype": "text/x-python",
   "name": "python",
   "nbconvert_exporter": "python",
   "pygments_lexer": "ipython3",
   "version": "3.7.7"
  },
  "nteract": {
   "version": "0.12.3"
  }
 },
 "nbformat": 4,
 "nbformat_minor": 2
}
