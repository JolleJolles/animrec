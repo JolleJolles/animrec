{
 "cells": [
  {
   "cell_type": "code",
   "execution_count": 1,
   "metadata": {},
   "outputs": [],
   "source": [
    "import sys\n",
    "sys.path.append('/Users/jollejolles/Dropbox/Science/5 Coding/AnimLab/')\n",
    "from animlab.utils import *\n",
    "filedir = \"/Users/jollejolles/Dropbox/Science/5 Coding/Piloting/aaa\"\n",
    "filedir2 = \"/Users/jollejolles/Dropbox/Science/5 Coding/Piloting/aab\""
   ]
  },
  {
   "cell_type": "code",
   "execution_count": 2,
   "metadata": {},
   "outputs": [],
   "source": [
    "import sys\n",
    "sys.path.append(\"/Users/jollejolles/Dropbox/Science/5 Coding/animrec\")\n",
    "from animrec import Converter"
   ]
  },
  {
   "cell_type": "code",
   "execution_count": null,
   "metadata": {},
   "outputs": [],
   "source": [
    "C = Converter(dir_in=filedir, dir_out=filedir2, vidtype=\".h264\", conv_type=\"withframe\",\n",
    "          remove=False, pools=2, resizeval=1, displayframenr = 100)"
   ]
  },
  {
   "cell_type": "code",
   "execution_count": 4,
   "metadata": {},
   "outputs": [
    {
     "name": "stdout",
     "output_type": "stream",
     "text": [
      "/Users/jollejolles/Dropbox/Science/5 Coding/Piloting/aaa/svidone.h264\n",
      "/Users/jollejolles/Dropbox/Science/5 Coding/Piloting/aaa/v2313idone.h264\n"
     ]
    }
   ],
   "source": [
    "from multiprocessing import Pool\n",
    "pool = Pool(processes = 6)"
   ]
  },
  {
   "cell_type": "code",
   "execution_count": 5,
   "metadata": {},
   "outputs": [
    {
     "name": "stdout",
     "output_type": "stream",
     "text": [
      "[None, None]\n"
     ]
    }
   ],
   "source": [
    "def poep(infile):\n",
    "    print(infile)\n",
    "\n",
    "conv_files = ['/Users/jollejolles/Dropbox/Science/5 Coding/Piloting/aaa/svidone.h264',\n",
    " '/Users/jollejolles/Dropbox/Science/5 Coding/Piloting/aaa/v2313idone.h264']\n",
    "\n",
    "print(pool.map(poep, conv_files))"
   ]
  },
  {
   "cell_type": "code",
   "execution_count": 6,
   "metadata": {},
   "outputs": [
    {
     "name": "stdout",
     "output_type": "stream",
     "text": [
      "[10, 20, 40]\n"
     ]
    }
   ],
   "source": [
    "from multiprocessing import Pool\n",
    " \n",
    "def doubler(number):\n",
    "    return number * 2\n",
    " \n",
    "if __name__ == '__main__':\n",
    "    numbers = [5, 10, 20]\n",
    "    pool = Pool(processes=3)\n",
    "    print(pool.map(doubler, numbers))"
   ]
  },
  {
   "cell_type": "code",
   "execution_count": null,
   "metadata": {},
   "outputs": [],
   "source": []
  }
 ],
 "metadata": {
  "kernelspec": {
   "display_name": "Python 2",
   "language": "python",
   "name": "python2"
  },
  "language_info": {
   "codemirror_mode": {
    "name": "ipython",
    "version": 2
   },
   "file_extension": ".py",
   "mimetype": "text/x-python",
   "name": "python",
   "nbconvert_exporter": "python",
   "pygments_lexer": "ipython2",
   "version": "2.7.15"
  }
 },
 "nbformat": 4,
 "nbformat_minor": 2
}
