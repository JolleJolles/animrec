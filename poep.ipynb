{
 "cells": [
  {
   "cell_type": "code",
   "execution_count": null,
   "metadata": {},
   "outputs": [],
   "source": [
    "#!/usr/bin/python\n",
    "\n",
    "import picamera\n",
    "import time\n",
    "import os\n",
    "import socket\n",
    "import cPickle\n",
    "from decimal import Decimal\n",
    "import subprocess\n",
    "from ast import literal_eval\n",
    "\n",
    "# Define functions\n",
    "def run(single = \"no\"):\n",
    "        \n",
    "    camera = picamera.PiCamera()\n",
    "    camera.framerate = 10\n",
    "    time.sleep(1)\n",
    "    camera.exposure_mode = 'off'\n",
    "    camera.awb_mode = 'off'\n",
    "    print(time.strftime(\"%H:%M:%S\")+\" - Recording video\")\n",
    "    camera.start_recording(\"sint.h264\", quality = 10)\n",
    "    camera.wait_recording(5)\n",
    "    camera.stop_recording()"
   ]
  }
 ],
 "metadata": {
  "kernelspec": {
   "display_name": "Python 2",
   "language": "python",
   "name": "python2"
  },
  "language_info": {
   "codemirror_mode": {
    "name": "ipython",
    "version": 2
   },
   "file_extension": ".py",
   "mimetype": "text/x-python",
   "name": "python",
   "nbconvert_exporter": "python",
   "pygments_lexer": "ipython2",
   "version": "2.7.12"
  }
 },
 "nbformat": 4,
 "nbformat_minor": 2
}
