{
 "cells": [
  {
   "cell_type": "code",
   "execution_count": null,
   "metadata": {},
   "outputs": [],
   "source": [
    "#!/usr/bin/python\n",
    "\n",
    "import picamera\n",
    "import time\n",
    "import os\n",
    "import socket\n",
    "import cPickle\n",
    "from decimal import Decimal\n",
    "import subprocess\n",
    "from ast import literal_eval\n",
    "\n",
    "# define recording function\n",
    "def record(imgwait = 5.0):\n",
    "    # set-up the camera with the right parameters\n",
    "    camera = picamera.PiCamera()\n",
    "    time.sleep(0.1)\n",
    "    camera.exposure_mode = 'off'\n",
    "    camera.awb_mode = 'off'\n",
    "    for i, img in enumerate(camera.capture_continuous(\"{timestamp:%Y%m%d}\", format=\"jpeg\")):\n",
    "        if i == imgnr:\n",
    "            break\n",
    "        print i\n",
    "        sleep(2)"
   ]
  }
 ],
 "metadata": {
  "kernelspec": {
   "display_name": "Python 2",
   "language": "python",
   "name": "python2"
  },
  "language_info": {
   "codemirror_mode": {
    "name": "ipython",
    "version": 2
   },
   "file_extension": ".py",
   "mimetype": "text/x-python",
   "name": "python",
   "nbconvert_exporter": "python",
   "pygments_lexer": "ipython2",
   "version": "2.7.12"
  }
 },
 "nbformat": 4,
 "nbformat_minor": 2
}
