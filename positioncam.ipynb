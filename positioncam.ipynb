{
 "cells": [
  {
   "cell_type": "code",
   "execution_count": null,
   "metadata": {},
   "outputs": [],
   "source": [
    "# Import the necessary packages\n",
    "from picamera.array import PiRGBArray\n",
    "from picamera import PiCamera\n",
    "from time import sleep\n",
    "import cv2\n",
    " \n",
    "# Initialize the camera and grab a reference to the raw camera capture\n",
    "camera = PiCamera()\n",
    "camera.resolution = (832, 624)\n",
    "rawCapture = PiRGBArray(camera)\n",
    "camera.framerate = 32\n",
    "rawCapture = PiRGBArray(camera, size=(832, 624))\n",
    "#camera.zoom = (0.0,0.0,1.0,1.0)\n",
    "#camera.exposure_compensation = 0\n",
    " \n",
    "# Allow the camera to warmup\n",
    "sleep(0.1)\n",
    " \n",
    "# Capture frames from the camera\n",
    "for frame in camera.capture_continuous(rawCapture, format=\"bgr\", use_video_port=True):\n",
    "    \n",
    "    # Grab the raw NumPy array representing the image, then initialise the timestamp\n",
    "    # and occupied/unoccupied text\n",
    "    image = frame.array\n",
    "\n",
    "    # Resize\n",
    "    #image = cv2.resize(image,(832, 624))\n",
    "\n",
    "    # Draw lines\n",
    "    cv2.line(image, (1,1), (832, 624), color=(255,255,255), thickness=2)\n",
    "    cv2.line(image, (832, 1), (1, 624), color=(255,255,255), thickness=2)\n",
    "\n",
    "    # Display the image on screen\n",
    "    cv2.imshow(\"Image\", image)\n",
    "    k = cv2.waitKey(1) & 0xFF\n",
    "\n",
    "    # Clear the stream in preparation for the next frame\n",
    "    rawCapture.truncate(0)\n",
    "    \n",
    "    # Stop when escape is pressed\n",
    "    if k == 27:\n",
    "        break"
   ]
  }
 ],
 "metadata": {
  "kernelspec": {
   "display_name": "Python 2",
   "language": "python",
   "name": "python2"
  },
  "language_info": {
   "codemirror_mode": {
    "name": "ipython",
    "version": 2
   },
   "file_extension": ".py",
   "mimetype": "text/x-python",
   "name": "python",
   "nbconvert_exporter": "python",
   "pygments_lexer": "ipython2",
   "version": "2.7.12"
  }
 },
 "nbformat": 4,
 "nbformat_minor": 2
}
