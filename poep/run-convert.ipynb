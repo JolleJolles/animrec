{
  "cells": [
    {
      "cell_type": "code",
      "source": [
        "import sys\n",
        "sys.path.append('/Users/Jolle/Dropbox/Science/5 Coding/AnimLab/')\n",
        "from animlab.utils import *\n",
        "filedir = \"/Users/Jolle/Dropbox/Science/5 Coding/Piloting/aaa\"\n",
        "filedir2 = \"/Users/Jolle/Dropbox/Science/5 Coding/Piloting/aab\""
      ],
      "outputs": [],
      "execution_count": 1,
      "metadata": {}
    },
    {
      "cell_type": "code",
      "source": [
        "import sys\n",
        "sys.path.append(\"/Users/Jolle/Dropbox/Science/5 Coding/animrec\")\n",
        "from animrec import Converter"
      ],
      "outputs": [],
      "execution_count": 2,
      "metadata": {}
    },
    {
      "cell_type": "code",
      "source": [
        "C = Converter(dir_in=filedir, dir_out=filedir2, vidtype=\".h264\", conv_type=\"withframe\",\n",
        "          remove=False, pools=2, resizeval=1, displayframenr = 100)"
      ],
      "outputs": [
        {
          "output_type": "stream",
          "name": "stdout",
          "text": [
            "09:33:50 [AnimRec] - Convert function started!                                                      \n",
            "09:33:50 [AnimRec] - got exception: PicklingError(\"Can't pickle <type 'instancemethod'>: attribute lookup __builtin__.instancemethod failed\",), terminating pool converting\n"
          ]
        }
      ],
      "execution_count": 3,
      "metadata": {}
    },
    {
      "cell_type": "code",
      "source": [
        "from multiprocessing import Pool\n",
        "pool = Pool(processes = 6)"
      ],
      "outputs": [],
      "execution_count": null,
      "metadata": {}
    },
    {
      "cell_type": "code",
      "source": [
        "def poep(infile):\n",
        "    print(infile)\n",
        "\n",
        "conv_files = ['/Users/jollejolles/Dropbox/Science/5 Coding/Piloting/aaa/svidone.h264',\n",
        " '/Users/jollejolles/Dropbox/Science/5 Coding/Piloting/aaa/v2313idone.h264']\n",
        "\nprint(pool.map(poep, conv_files))"
      ],
      "outputs": [],
      "execution_count": null,
      "metadata": {}
    },
    {
      "cell_type": "code",
      "source": [
        "from multiprocessing import Pool\n",
        " \n",
        "def doubler(number):\n",
        "    return number * 2\n",
        " \n",
        "if __name__ == '__main__':\n",
        "    numbers = [5, 10, 20]\n",
        "    pool = Pool(processes=3)\n",
        "    print(pool.map(doubler, numbers))"
      ],
      "outputs": [],
      "execution_count": null,
      "metadata": {}
    },
    {
      "cell_type": "code",
      "source": [],
      "outputs": [],
      "execution_count": null,
      "metadata": {}
    }
  ],
  "metadata": {
    "kernelspec": {
      "name": "python2",
      "language": "python",
      "display_name": "Python 2"
    },
    "language_info": {
      "mimetype": "text/x-python",
      "nbconvert_exporter": "python",
      "name": "python",
      "pygments_lexer": "ipython2",
      "version": "2.7.12",
      "file_extension": ".py",
      "codemirror_mode": {
        "version": 2,
        "name": "ipython"
      }
    },
    "kernel_info": {
      "name": "python2"
    },
    "nteract": {
      "version": "0.12.3"
    }
  },
  "nbformat": 4,
  "nbformat_minor": 2
}